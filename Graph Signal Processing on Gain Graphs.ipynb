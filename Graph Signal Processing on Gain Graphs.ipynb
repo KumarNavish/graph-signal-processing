{
 "cells": [
  {
   "cell_type": "code",
   "execution_count": 1,
   "metadata": {},
   "outputs": [],
   "source": [
    "import pandas as pd\n",
    "import numpy as np\n",
    "import re\n",
    "import random\n",
    "from pygsp import *\n",
    "from networkx import is_tree\n",
    "import networkx as nx\n",
    "import sympy as sy\n",
    "from sympy.solvers import solve\n",
    "from sympy import Symbol\n",
    "\n",
    "# Plotting\n",
    "import matplotlib as mpl\n",
    "import matplotlib.pyplot as plt\n",
    "import seaborn as sns\n",
    "# sns.set(palette = 'deep')\n",
    "plotting.BACKEND = 'matplotlib'\n",
    "# plt.rcParams['font.family'] = 'sans-serif'\n",
    "colormap = plt.cm.get_cmap('Spectral') \n",
    "colormap = colormap.reversed()\n",
    "# plt.rcParams.update({\n",
    "#     \"text.usetex\": True,\n",
    "#     \"font.family\": \"sans-serif\",\n",
    "#     \"font.sans-serif\": [\"Helvetica\"]})"
   ]
  },
  {
   "cell_type": "markdown",
   "metadata": {},
   "source": [
    "### Import temperature and latitude datasets\n"
   ]
  },
  {
   "cell_type": "code",
   "execution_count": 2,
   "metadata": {},
   "outputs": [
    {
     "data": {
      "text/plain": [
       "((48, 2), (48, 5))"
      ]
     },
     "execution_count": 2,
     "metadata": {},
     "output_type": "execute_result"
    }
   ],
   "source": [
    "Temp = pd.read_csv('..\\Graph Signal Processing\\Temperature.csv')\n",
    "Lat = pd.read_csv('..\\Graph Signal Processing\\Latitude.csv')\n",
    "Temp.shape, Lat.shape"
   ]
  },
  {
   "cell_type": "code",
   "execution_count": 25,
   "metadata": {},
   "outputs": [
    {
     "data": {
      "text/html": [
       "<div>\n",
       "<style scoped>\n",
       "    .dataframe tbody tr th:only-of-type {\n",
       "        vertical-align: middle;\n",
       "    }\n",
       "\n",
       "    .dataframe tbody tr th {\n",
       "        vertical-align: top;\n",
       "    }\n",
       "\n",
       "    .dataframe thead th {\n",
       "        text-align: right;\n",
       "    }\n",
       "</style>\n",
       "<table border=\"1\" class=\"dataframe\">\n",
       "  <thead>\n",
       "    <tr style=\"text-align: right;\">\n",
       "      <th></th>\n",
       "      <th>State</th>\n",
       "      <th>Abbr</th>\n",
       "      <th>Bordering States</th>\n",
       "      <th>Latitude</th>\n",
       "      <th>Longitude</th>\n",
       "      <th>Temperature</th>\n",
       "      <th>weight</th>\n",
       "    </tr>\n",
       "  </thead>\n",
       "  <tbody>\n",
       "    <tr>\n",
       "      <td>0</td>\n",
       "      <td>Alabama</td>\n",
       "      <td>AL</td>\n",
       "      <td>Florida, Georgia, Mississippi, Tennessee</td>\n",
       "      <td>32.806671</td>\n",
       "      <td>-86.791130</td>\n",
       "      <td>62.8</td>\n",
       "      <td>0.353579</td>\n",
       "    </tr>\n",
       "    <tr>\n",
       "      <td>1</td>\n",
       "      <td>Arizona</td>\n",
       "      <td>AZ</td>\n",
       "      <td>California, Colorado, Nevada, New Mexico, Utah</td>\n",
       "      <td>33.729759</td>\n",
       "      <td>-111.431221</td>\n",
       "      <td>60.3</td>\n",
       "      <td>0.289714</td>\n",
       "    </tr>\n",
       "    <tr>\n",
       "      <td>2</td>\n",
       "      <td>Arkansas</td>\n",
       "      <td>AR</td>\n",
       "      <td>Louisiana, Mississippi, Missouri, Oklahoma, Te...</td>\n",
       "      <td>34.969704</td>\n",
       "      <td>-92.373123</td>\n",
       "      <td>60.4</td>\n",
       "      <td>0.354049</td>\n",
       "    </tr>\n",
       "    <tr>\n",
       "      <td>3</td>\n",
       "      <td>California</td>\n",
       "      <td>CA</td>\n",
       "      <td>Arizona, Nevada, Oregon</td>\n",
       "      <td>36.116203</td>\n",
       "      <td>-119.681564</td>\n",
       "      <td>59.4</td>\n",
       "      <td>0.288901</td>\n",
       "    </tr>\n",
       "    <tr>\n",
       "      <td>4</td>\n",
       "      <td>Colorado</td>\n",
       "      <td>CO</td>\n",
       "      <td>Arizona, Kansas, Nebraska, New Mexico, Oklahom...</td>\n",
       "      <td>39.059811</td>\n",
       "      <td>-105.311104</td>\n",
       "      <td>45.1</td>\n",
       "      <td>0.347750</td>\n",
       "    </tr>\n",
       "  </tbody>\n",
       "</table>\n",
       "</div>"
      ],
      "text/plain": [
       "        State Abbr                                   Bordering States  \\\n",
       "0     Alabama   AL           Florida, Georgia, Mississippi, Tennessee   \n",
       "1     Arizona   AZ     California, Colorado, Nevada, New Mexico, Utah   \n",
       "2    Arkansas   AR  Louisiana, Mississippi, Missouri, Oklahoma, Te...   \n",
       "3  California   CA                            Arizona, Nevada, Oregon   \n",
       "4    Colorado   CO  Arizona, Kansas, Nebraska, New Mexico, Oklahom...   \n",
       "\n",
       "    Latitude   Longitude  Temperature    weight  \n",
       "0  32.806671  -86.791130         62.8  0.353579  \n",
       "1  33.729759 -111.431221         60.3  0.289714  \n",
       "2  34.969704  -92.373123         60.4  0.354049  \n",
       "3  36.116203 -119.681564         59.4  0.288901  \n",
       "4  39.059811 -105.311104         45.1  0.347750  "
      ]
     },
     "execution_count": 25,
     "metadata": {},
     "output_type": "execute_result"
    }
   ],
   "source": [
    "# collect data in a single dataframe\n",
    "df = Lat.copy()\n",
    "df['Temperature'] = Temp['Avg F']\n",
    "df['weight'] = df['Latitude']/(np.sqrt(df['Latitude']**2+df['Longitude']**2)).values\n",
    "# save the file\n",
    "df.to_csv('..\\Graph Signal Processing\\data.csv')\n",
    "\n",
    "# -------for descibing the positon of nodes-----\n",
    "pos_array=df[['Longitude','Latitude']].values\n",
    "pos_dict = {}\n",
    "for key,(i,j) in enumerate(pos_array):\n",
    "    pos_dict[key] =  [i,j]\n",
    "# ---------------------------------------------\n",
    "df[:5]"
   ]
  },
  {
   "cell_type": "code",
   "execution_count": 4,
   "metadata": {},
   "outputs": [
    {
     "data": {
      "text/plain": [
       "0.3535789213932027"
      ]
     },
     "execution_count": 4,
     "metadata": {},
     "output_type": "execute_result"
    }
   ],
   "source": [
    "df[df['State'] == 'Alabama']['weight'].values[0]"
   ]
  },
  {
   "cell_type": "code",
   "execution_count": 5,
   "metadata": {},
   "outputs": [
    {
     "data": {
      "text/plain": [
       "array([[0., 0., 0., 0., 0.],\n",
       "       [0., 0., 0., 1., 1.],\n",
       "       [0., 0., 0., 0., 0.],\n",
       "       [0., 0., 0., 0., 0.],\n",
       "       [0., 0., 0., 0., 0.]])"
      ]
     },
     "execution_count": 5,
     "metadata": {},
     "output_type": "execute_result"
    }
   ],
   "source": [
    "# This weight works\n",
    "# df[df.index==i]['Latitude']/(np.sqrt(df[df.index==i]['Latitude']**2+df[df.index==i]['Longitude']**2))\n",
    "\n",
    "\n",
    "# A directed edge between states is assigned based on latitudes; from lower to higher.\n",
    "# The corresponding adjacency matrces are \n",
    "directed_adj = np.zeros((df.shape[0],df.shape[0]))\n",
    "undirected_adj = np.zeros((df.shape[0],df.shape[0]))\n",
    "symm_adj = np.zeros((df.shape[0],df.shape[0]))\n",
    "\n",
    "# Weighted Versions\n",
    "directed_adj_w = np.zeros((df.shape[0],df.shape[0]))\n",
    "symm_adj_w = np.zeros((df.shape[0],df.shape[0]))\n",
    "\n",
    "for i, row in df.iterrows():\n",
    "    latitute = row['Latitude']\n",
    "#     print(row['Bordering States'])\n",
    "    for state in row['Bordering States'].split(','):\n",
    "        if state[0]==' ':\n",
    "            state = state[1:]\n",
    "#         print(state)\n",
    "#         print(df[df['State'] == state]['Latitude'].values[0])\n",
    "        j=df[df['State'] == state].index[0]\n",
    "        undirected_adj[i][j] = 1\n",
    "        directed_adj_w[i][j] = df[df['State'] == state]['weight'].values[0]\n",
    "        if latitute <= df[df['State'] == state]['Latitude'].values[0]:\n",
    "            directed_adj[i][j] = 1\n",
    "        \n",
    "# defining the symmetrized adj\n",
    "for i in range(symm_adj.shape[0]):\n",
    "    for j in range(symm_adj.shape[1]):\n",
    "        symm_adj[i][j] = 0.5*(directed_adj[i][j]+directed_adj[j][i])\n",
    "        symm_adj_w[i][j] = 0.5*(directed_adj_w[i][j]+directed_adj_w[j][i])\n",
    "        \n",
    "# define the degree matrix\n",
    "D = np.diag(np.sum(undirected_adj,-1)**(-0.5))\n",
    "\n",
    "# define the weighted degree matrix\n",
    "D_w = np.diag(np.sum(symm_adj,-1)**(-0.5))\n",
    "\n",
    "# define the weighted_symm degree matrix\n",
    "D_symm = np.diag(np.sum(symm_adj_w,-1)**(-0.5))\n",
    "\n",
    "\n",
    "directed_adj[:5,:5]"
   ]
  },
  {
   "cell_type": "code",
   "execution_count": 6,
   "metadata": {},
   "outputs": [
    {
     "data": {
      "text/plain": [
       "array([2., 5., 3., 2., 3., 3., 2., 2., 3., 3., 3., 3., 3., 2., 6., 2., 0.,\n",
       "       2., 2., 2., 1., 3., 4., 1., 3., 3., 2., 2., 3., 2., 2., 0., 2., 3.,\n",
       "       1., 1., 2., 1., 3., 3., 4., 2., 0., 2., 0., 3., 1., 3.])"
      ]
     },
     "execution_count": 6,
     "metadata": {},
     "output_type": "execute_result"
    }
   ],
   "source": [
    "np.sum(directed_adj, -1)\n",
    "# 16,31,42,44 - no edge points from them to other states "
   ]
  },
  {
   "cell_type": "code",
   "execution_count": 7,
   "metadata": {},
   "outputs": [
    {
     "data": {
      "text/html": [
       "<div>\n",
       "<style scoped>\n",
       "    .dataframe tbody tr th:only-of-type {\n",
       "        vertical-align: middle;\n",
       "    }\n",
       "\n",
       "    .dataframe tbody tr th {\n",
       "        vertical-align: top;\n",
       "    }\n",
       "\n",
       "    .dataframe thead th {\n",
       "        text-align: right;\n",
       "    }\n",
       "</style>\n",
       "<table border=\"1\" class=\"dataframe\">\n",
       "  <thead>\n",
       "    <tr style=\"text-align: right;\">\n",
       "      <th></th>\n",
       "      <th>State</th>\n",
       "      <th>Abbr</th>\n",
       "      <th>Bordering States</th>\n",
       "      <th>Latitude</th>\n",
       "      <th>Longitude</th>\n",
       "      <th>Temperature</th>\n",
       "      <th>weight</th>\n",
       "    </tr>\n",
       "  </thead>\n",
       "  <tbody>\n",
       "    <tr>\n",
       "      <td>31</td>\n",
       "      <td>North Dakota</td>\n",
       "      <td>ND</td>\n",
       "      <td>Minnesota, Montana, South Dakota</td>\n",
       "      <td>47.528912</td>\n",
       "      <td>-99.784012</td>\n",
       "      <td>40.4</td>\n",
       "      <td>0.430027</td>\n",
       "    </tr>\n",
       "  </tbody>\n",
       "</table>\n",
       "</div>"
      ],
      "text/plain": [
       "           State Abbr                  Bordering States   Latitude  Longitude  \\\n",
       "31  North Dakota   ND  Minnesota, Montana, South Dakota  47.528912 -99.784012   \n",
       "\n",
       "    Temperature    weight  \n",
       "31         40.4  0.430027  "
      ]
     },
     "execution_count": 7,
     "metadata": {},
     "output_type": "execute_result"
    }
   ],
   "source": [
    "df[df.index == 31]"
   ]
  },
  {
   "cell_type": "markdown",
   "metadata": {},
   "source": [
    "#### Undirected Case"
   ]
  },
  {
   "cell_type": "code",
   "execution_count": 8,
   "metadata": {},
   "outputs": [
    {
     "data": {
      "text/plain": [
       "matrix([[ 1.        ,  0.        ,  0.        ,  0.        ,  0.        ],\n",
       "        [ 0.        ,  1.        ,  0.        , -0.25819889, -0.16903085],\n",
       "        [ 0.        ,  0.        ,  1.        ,  0.        ,  0.        ],\n",
       "        [ 0.        , -0.25819889,  0.        ,  1.        ,  0.        ],\n",
       "        [ 0.        , -0.16903085,  0.        ,  0.        ,  1.        ]])"
      ]
     },
     "execution_count": 8,
     "metadata": {},
     "output_type": "execute_result"
    }
   ],
   "source": [
    "# create the graph using the Adjacency matrices\n",
    "G_gsp_dir = graphs.Graph(directed_adj)\n",
    "G_gsp_undir = graphs.Graph(undirected_adj)\n",
    "\n",
    "G_gsp_undir.compute_laplacian('normalized')\n",
    "G_gsp_undir.compute_fourier_basis(recompute=True) \n",
    "# G_gsp_undir.U\n",
    "G_gsp_undir.L.todense()[:5,:5]"
   ]
  },
  {
   "cell_type": "markdown",
   "metadata": {},
   "source": [
    "#### Unweighted Undirected Symmetrized Case"
   ]
  },
  {
   "cell_type": "code",
   "execution_count": 9,
   "metadata": {},
   "outputs": [],
   "source": [
    "# calculate fourier basis\n",
    "Unweighted_lapl_symm = np.identity(df.shape[0]) - D_w@symm_adj@D_w\n",
    "# Weighted_lapl = np.identity(df.shape[0]) - D_symm@directed_adj_w@D_symm\n",
    "\n",
    "eigenValues_w,U_w = np.linalg.eigh(Unweighted_lapl_symm)\n",
    "# eigenValues_w"
   ]
  },
  {
   "cell_type": "markdown",
   "metadata": {},
   "source": [
    "#### Weighted Undirected Symmetrized Case"
   ]
  },
  {
   "cell_type": "code",
   "execution_count": 10,
   "metadata": {},
   "outputs": [],
   "source": [
    "# calculate fourier basis\n",
    "Weighted_lapl_symm = np.identity(df.shape[0]) - D_symm@symm_adj_w@D_symm\n",
    "# Weighted_lapl = np.identity(df.shape[0]) - D_symm@directed_adj_w@D_symm\n",
    "\n",
    "#  For Sorting\n",
    "# eigenValues_w,U_w = np.linalg.eig(Weighted_lapl_symm)\n",
    "# idx = eigenValues_w.argsort() #do [::-1] for descending order\n",
    "# eigenValues_w = eigenValues_w[idx]\n",
    "# U_w = U_w[:,idx]\n",
    "\n",
    "eigenValues_symm,U_symm = np.linalg.eigh(Weighted_lapl_symm)\n",
    "# eigenValues_symm"
   ]
  },
  {
   "cell_type": "markdown",
   "metadata": {},
   "source": [
    "#### Gain Case"
   ]
  },
  {
   "cell_type": "code",
   "execution_count": 11,
   "metadata": {},
   "outputs": [],
   "source": [
    "q_gain = 0.0\n",
    "\n",
    "# defining the gain adjacency matrix\n",
    "def hadamard_adj(q):\n",
    "    adj = np.zeros((df.shape[0],df.shape[0]),dtype=complex)\n",
    "    for i in range(df.shape[0]):\n",
    "        for j in range(df.shape[0]):\n",
    "#             adj[i][j] = np.exp(2*(np.pi)*q*1j*(directed_adj[i][j]-directed_adj[j][i]))\n",
    "            adj[i][j] = np.exp(2*(np.pi)*q*1j*(directed_adj_w[i][j]-directed_adj_w[j][i]))\n",
    "    return adj\n",
    "\n",
    "gain_lapl = np.identity(df.shape[0]) - D@np.multiply(hadamard_adj(q_gain),undirected_adj)@D\n",
    "\n",
    "# calculate fourier basis\n",
    "eigenValues_gain,U_gain = np.linalg.eigh(gain_lapl)\n",
    "\n",
    "# gain_lapl[:5,:5]"
   ]
  },
  {
   "cell_type": "markdown",
   "metadata": {},
   "source": [
    "#### Hermitian Case"
   ]
  },
  {
   "cell_type": "code",
   "execution_count": 12,
   "metadata": {},
   "outputs": [],
   "source": [
    "q_hermitian = 0.0\n",
    "\n",
    "# unweighted_symm\n",
    "# hermitian_lapl = np.identity(df.shape[0]) - D_w@np.multiply(hadamard_adj(q_hermitian),symm_adj)@D_w\n",
    "\n",
    "# weighted_symm\n",
    "hermitian_lapl = np.identity(df.shape[0]) - D_symm@np.multiply(hadamard_adj(q_hermitian),symm_adj_w)@D_symm\n",
    "\n",
    "# calculate fourier basis\n",
    "eigenValues_hermitian,U_hermitian = np.linalg.eigh(hermitian_lapl)\n",
    "\n",
    "# hermitian_lapl[:5,:5]"
   ]
  },
  {
   "cell_type": "markdown",
   "metadata": {},
   "source": [
    "### Calculating Errors for denoised signals"
   ]
  },
  {
   "cell_type": "code",
   "execution_count": 13,
   "metadata": {},
   "outputs": [],
   "source": [
    "# adding noise to the signal\n",
    "exp_undir= np.zeros(df.shape[0],dtype='complex')\n",
    "exp_hermitian = np.zeros(df.shape[0],dtype='complex')\n",
    "exp_gain = np.zeros(df.shape[0],dtype='complex')\n",
    "\n",
    "# Temperature signals on different graphs\n",
    "denoised_signal_undir = np.zeros(df.shape[0])\n",
    "denoised_signal_gain = np.zeros(df.shape[0])\n",
    "denoised_signal_hermitian = np.zeros(df.shape[0])\n",
    "\n",
    "# noised signal\n",
    "noised_temp=np.zeros(df.shape[0])\n",
    "\n",
    "# number of simulations\n",
    "sim = 1000\n",
    "\n",
    "# define the low pass filter kernel\n",
    "c=0.4\n",
    "def filter(eigen):\n",
    "    return 1/(1+c*eigen)\n",
    "\n",
    "np.random.seed(0)\n",
    "\n",
    "# permoing sim number of simulations\n",
    "for i in range(sim):\n",
    "    noise = np.random.normal(loc = 0,scale=10,size=df.shape[0])\n",
    "    noised_temp  = noise+df['Temperature'].values\n",
    "\n",
    "#  -----------------------------------------------------------------\n",
    "     # denoised signal for undirected case\n",
    "#     H = np.diag(filter(G_gsp_undir.e))\n",
    "#     denoised_signal_undir = G_gsp_undir.U@H@G_gsp_undir.U.T@noised_temp\n",
    "#     # Error for undirected case\n",
    "#     exp_undir += (1/sim)*denoised_signal_undir\n",
    "\n",
    "# exp_undir = G_gsp_undir.U@H@G_gsp_undir.U.T@df['Temperature'].values\n",
    "    \n",
    "    \n",
    "    # denoised signal for symm_unweighted case\n",
    "#     H = np.diag(filter(eigenValues_w))\n",
    "#     denoised_signal_undir = U_w@H@U_w.T@noised_temp\n",
    "#     # Error for undirected case\n",
    "#     exp_undir += (1/sim)*denoised_signal_undir\n",
    "    \n",
    "# exp_undir = U_w@H@U_w.T@df['Temperature'].values\n",
    "    \n",
    "\n",
    "    \n",
    "    # denoised signal for symm_weighted case\n",
    "    H = np.diag(filter(eigenValues_symm))\n",
    "    denoised_signal_undir = U_symm@H@U_symm.T@noised_temp\n",
    "    # Error for undirected case\n",
    "    exp_undir += (1/sim)*denoised_signal_undir\n",
    "    \n",
    "# exp_undir = U_symm@H@U_symm.T@df['Temperature'].values\n",
    "\n",
    "#  -----------------------------------------------------------------\n",
    "    # denoised signal for hermitian case\n",
    "    H = np.diag(filter(eigenValues_hermitian))\n",
    "    denoised_signal_hermitian = U_hermitian@H@(np.conjugate(U_hermitian).T)@noised_temp\n",
    "    # Error for hermitian case\n",
    "    exp_hermitian += (1/sim)*denoised_signal_hermitian\n",
    "    \n",
    "    \n",
    "# exp_hermitian = U_hermitian@H@(np.conjugate(U_hermitian).T)@df['Temperature'].values\n",
    "\n",
    "#  -----------------------------------------------------------------\n",
    "    # denoised signal for Gain case\n",
    "    H = np.diag(filter(eigenValues_gain))\n",
    "    denoised_signal_gain = U_gain@H@np.conjugate(U_gain).T@noised_temp\n",
    "    # Error for Gain case\n",
    "    exp_gain += (1/sim)*denoised_signal_gain\n",
    "    \n",
    "# exp_gain = U_gain@H@np.conjugate(U_gain).T@df['Temperature'].values\n",
    "\n",
    "#  -----------------------------------------------------------------\n",
    "    \n",
    "e_undir,e_hermitian,e_gain = np.linalg.norm(exp_undir-df['Temperature'].values),\\\n",
    "                             np.linalg.norm(exp_hermitian-df['Temperature'].values),\\\n",
    "                             np.linalg.norm(exp_gain-df['Temperature'].values)\n",
    "#  -----------------------------------------------------------------"
   ]
  },
  {
   "cell_type": "code",
   "execution_count": 14,
   "metadata": {},
   "outputs": [
    {
     "data": {
      "text/plain": [
       "(20.174513894251316, 19.7897860819567, 20.17451389425131)"
      ]
     },
     "execution_count": 14,
     "metadata": {},
     "output_type": "execute_result"
    }
   ],
   "source": [
    "e_undir,e_gain,e_hermitian"
   ]
  },
  {
   "cell_type": "markdown",
   "metadata": {},
   "source": [
    "### Create the barplots"
   ]
  },
  {
   "cell_type": "code",
   "execution_count": 17,
   "metadata": {},
   "outputs": [
    {
     "name": "stderr",
     "output_type": "stream",
     "text": [
      "The PostScript backend does not support transparency; partially transparent artists will be rendered opaque.\n",
      "The PostScript backend does not support transparency; partially transparent artists will be rendered opaque.\n"
     ]
    },
    {
     "data": {
      "image/png": "[encoded data removed]",
      "text/plain": [
       "<Figure size 864x216 with 1 Axes>"
      ]
     },
     "metadata": {
      "needs_background": "light"
     },
     "output_type": "display_data"
    }
   ],
   "source": [
    "plt.figure(figsize =(12, 3)) \n",
    "sns.set(palette='deep')\n",
    "xticks = [i for i in range(df.shape[0])]\n",
    "plt.bar(xticks, np.absolute(exp_hermitian-df['Temperature'].values),color='lightcoral', alpha=1)\n",
    "plt.bar(xticks, np.absolute(exp_gain-df['Temperature'].values),color='steelblue', alpha=1)\n",
    "# plt.bar(xticks, np.absolute(exp_undir-df['Temperature'].values),color='yellowgreen', alpha=0.2)\n",
    "plt.xticks(xticks,labels=df['Abbr'].to_list(),fontsize=9)\n",
    "plt.axis('tight')\n",
    "plt.ylabel(\"Error\",fontsize=14)\n",
    "plt.xlabel(\"States\",fontsize=14)\n",
    "# plt.legend(['Hermitian','Gain'])\n",
    "plt.legend([r'$\\mathcal{H}^{(w)}$',r'$\\mathcal{L}(\\Phi_q)$'],fontsize=12)\n",
    "plt.tight_layout()\n",
    "#  -----------------------------------------------------------------\n",
    "# plt.savefig('..\\Graph Signal Processing\\Images\\Error_Barplot.eps',format='eps',dps=200)\n",
    "plt.savefig('..\\Graph Signal Processing\\Images\\Error_Barplot_Hermitian_weighted.eps',format='eps',dps=200)\n",
    "# plt.savefig('..\\Graph Signal Processing\\Images\\Error_Barplot_weighted_symm.eps',format='eps',dps=200)\n",
    "#  -----------------------------------------------------------------\n",
    "plt.show()"
   ]
  },
  {
   "cell_type": "markdown",
   "metadata": {},
   "source": [
    "### Relation b/w Gain error and value of q"
   ]
  },
  {
   "cell_type": "markdown",
   "metadata": {},
   "source": [
    "#### Gain Case"
   ]
  },
  {
   "cell_type": "code",
   "execution_count": null,
   "metadata": {},
   "outputs": [],
   "source": [
    "q_list = np.linspace(0,1,100)\n",
    "\n",
    "# defining the gain adjacency matrix\n",
    "def gain_eigv(q):\n",
    "    adj = np.zeros((df.shape[0],df.shape[0]),dtype=complex)\n",
    "    for i in range(df.shape[0]):\n",
    "        for j in range(df.shape[0]):\n",
    "#             adj[i][j] = np.exp(2*(np.pi)*q*1j*(directed_adj[i][j]-directed_adj[j][i]))\n",
    "            adj[i][j] = np.exp(2*(np.pi)*q*1j*(directed_adj_w[i][j]-directed_adj_w[j][i]))\n",
    "    \n",
    "    gain_lapl = np.identity(df.shape[0]) - D@np.multiply(adj,undirected_adj)@D\n",
    "    return np.linalg.eigh(gain_lapl)\n",
    "\n",
    "# defining the hermitian matrix\n",
    "def herm_eigv(q):\n",
    "    adj = np.zeros((df.shape[0],df.shape[0]),dtype=complex)\n",
    "    for i in range(df.shape[0]):\n",
    "        for j in range(df.shape[0]):\n",
    "#             adj[i][j] = np.exp(2*(np.pi)*q*1j*(directed_adj[i][j]-directed_adj[j][i]))\n",
    "            adj[i][j] = np.exp(2*(np.pi)*q*1j*(directed_adj_w[i][j]-directed_adj_w[j][i]))\n",
    "    \n",
    "#     hermitian_lapl = np.identity(df.shape[0]) - D_w@np.multiply(adj,symm_adj)@D_w\n",
    "    hermitian_lapl = np.identity(df.shape[0]) - D_symm@np.multiply(adj,symm_adj_w)@D_symm\n",
    "    return np.linalg.eigh(hermitian_lapl)"
   ]
  },
  {
   "cell_type": "markdown",
   "metadata": {},
   "source": [
    "### Calculating Errors for denoised signals"
   ]
  },
  {
   "cell_type": "code",
   "execution_count": null,
   "metadata": {},
   "outputs": [],
   "source": [
    "e_gain_list = []\n",
    "denoised_signal_gain = np.zeros(df.shape[0])\n",
    "\n",
    "e_hermitian_list = []\n",
    "denoised_signal_hermitian = np.zeros(df.shape[0])\n",
    "\n",
    "# number of simulations\n",
    "sim = 100\n",
    "\n",
    "# define the low pass filter kernel\n",
    "c=0.4\n",
    "def filter(eigen):\n",
    "    return 1/(1+c*eigen)\n",
    "\n",
    "\n",
    "\n",
    "# permoing sim number of simulations\n",
    "for q in q_list:\n",
    "    exp_gain = np.zeros(df.shape[0],dtype='complex')\n",
    "    exp_hermitian= np.zeros(df.shape[0],dtype='complex')\n",
    "    np.random.seed(0)\n",
    "    for i in range(sim):\n",
    "        noise = np.random.normal(loc = 0,scale=10,size=df.shape[0])\n",
    "        noised_temp  = noise+df['Temperature'].values\n",
    "        \n",
    "#  -----------------------------------------------------------------\n",
    "        # denoised signal for hermitian case\n",
    "        eigenValues_hermitian,U_hermitian = herm_eigv(q)\n",
    "        H = np.diag(filter(eigenValues_hermitian))\n",
    "        denoised_signal_hermitian = U_hermitian@H@(np.conjugate(U_hermitian).T)@noised_temp\n",
    "        # Error for hermitian case\n",
    "        exp_hermitian += (1/sim)*denoised_signal_hermitian\n",
    "    \n",
    "#     exp_hermitian = U_hermitian@H@(np.conjugate(U_hermitian).T)@df['Temperature'].values\n",
    "#  -----------------------------------------------------------------\n",
    "        # denoised signal for Gain case\n",
    "        eigenValues_gain,U_gain = gain_eigv(q)\n",
    "        H = np.diag(filter(eigenValues_gain))\n",
    "        denoised_signal_gain = U_gain@H@np.conjugate(U_gain).T@noised_temp\n",
    "#         # Error for Gain case\n",
    "        exp_gain += (1/sim)*denoised_signal_gain\n",
    "        \n",
    "#     exp_gain=U_gain@H@np.conjugate(U_gain).T@df['Temperature'].values\n",
    "# -----------------------------------------------------------------\n",
    "    e_gain_list.append(np.linalg.norm(exp_gain-df['Temperature'].values))\n",
    "    e_hermitian_list.append(np.linalg.norm(exp_hermitian-df['Temperature'].values))\n",
    "e_gain_list[:5]"
   ]
  },
  {
   "cell_type": "code",
   "execution_count": null,
   "metadata": {},
   "outputs": [],
   "source": [
    "q_list[np.argmin(e_gain_list)], e_gain_list[np.argmin(e_gain_list)]"
   ]
  },
  {
   "cell_type": "code",
   "execution_count": null,
   "metadata": {},
   "outputs": [],
   "source": [
    "plt.figure(figsize=(5,4))\n",
    "plt.plot(q_list, e_hermitian_list,color='lightcoral')\n",
    "plt.plot(q_list, e_gain_list,color='steelblue')\n",
    "plt.title('Unweighted',fontsize=14)\n",
    "plt.ylabel('Error',fontsize=14)\n",
    "plt.xlabel('q',fontsize=14)\n",
    "# plt.legend(['Gain','Hermitian'])\n",
    "plt.legend([r'$\\mathcal{H}$',r'$\\mathcal{L}(\\Phi_q)$'],fontsize=12)\n",
    "plt.tight_layout()\n",
    "plt.savefig('..\\Graph Signal Processing\\Images\\WU_GainError_vs_q.eps',format='eps',dpi=200)\n",
    "plt.show()"
   ]
  },
  {
   "cell_type": "code",
   "execution_count": null,
   "metadata": {},
   "outputs": [],
   "source": [
    "plt.figure(figsize=(5,4))\n",
    "plt.plot(q_list, e_gain_list,color='steelblue')\n",
    "plt.plot(q_list, e_hermitian_list,color='lightcoral')\n",
    "plt.title('Weighted',fontsize=14)\n",
    "plt.ylabel('Error',fontsize=14)\n",
    "plt.xlabel('q',fontsize=14)\n",
    "# plt.legend(['Gain','Hermitian'])\n",
    "plt.legend([r'$\\mathcal{H}$',r'$\\mathcal{L}(\\Phi_q)$'],fontsize=12)\n",
    "plt.tight_layout()\n",
    "plt.savefig('..\\Graph Signal Processing\\Images\\Weighted_GainError_vs_q.eps',format='eps',dpi=200)\n",
    "plt.show()"
   ]
  },
  {
   "cell_type": "markdown",
   "metadata": {},
   "source": [
    "## Comparison With [Shafipour et al](https://arxiv.org/pdf/1804.03000.pdf)"
   ]
  },
  {
   "cell_type": "code",
   "execution_count": 25,
   "metadata": {},
   "outputs": [
    {
     "data": {
      "text/plain": [
       "350.93366694165695"
      ]
     },
     "execution_count": 25,
     "metadata": {},
     "output_type": "execute_result"
    }
   ],
   "source": [
    "# np.save('..\\Graph Signal Processing\\Ieee_U.npy',U_comp)\n",
    "# U_comp = np.load('..\\Graph Signal Processing\\Ieee_U.npy')\n",
    "import scipy \n",
    "U_comp = scipy.io.loadmat('U.mat')['U']\n",
    "\n",
    "# spectral window\n",
    "w=3\n",
    "\n",
    "# filter\n",
    "H_ieee = np.diag([1 if i<= w-1 else 0 for i in range(df.shape[0])])\n",
    "# U_comp = algorithm2(epsilon)\n",
    "\n",
    "denoised_signal_ieee = U_comp@H_ieee@U_comp.T@noised_temp\n",
    "error_ieee = np.linalg.norm(denoised_signal_ieee-df['Temperature'].values)\n",
    "error_ieee"
   ]
  },
  {
   "cell_type": "markdown",
   "metadata": {},
   "source": [
    "### Comparing Errors"
   ]
  },
  {
   "cell_type": "code",
   "execution_count": 26,
   "metadata": {},
   "outputs": [
    {
     "name": "stderr",
     "output_type": "stream",
     "text": [
      "The PostScript backend does not support transparency; partially transparent artists will be rendered opaque.\n",
      "The PostScript backend does not support transparency; partially transparent artists will be rendered opaque.\n"
     ]
    },
    {
     "data": {
      "image/png": "[encoded data removed]",
      "text/plain": [
       "<Figure size 864x216 with 1 Axes>"
      ]
     },
     "metadata": {},
     "output_type": "display_data"
    }
   ],
   "source": [
    "plt.figure(figsize =(12, 3)) \n",
    "\n",
    "# plt.bar(xticks, e_undir)\n",
    "xticks = [i for i in range(df.shape[0])]\n",
    "plt.bar(xticks, np.absolute(denoised_signal_ieee-df['Temperature'].values),color='yellowgreen', alpha=1)\n",
    "plt.bar(xticks, np.absolute(exp_gain-df['Temperature'].values),color='steelblue', alpha=1)\n",
    "plt.xticks(xticks,labels=df['Abbr'].to_list(),fontsize=9)\n",
    "plt.axis('tight')\n",
    "plt.ylabel(\"Error\",fontsize=14)\n",
    "plt.xlabel(\"States\",fontsize=14)\n",
    "# plt.legend(['FM','Gain'])\n",
    "plt.legend(['FM',r'$\\mathcal{L}(\\Phi_q)$'],fontsize=12)\n",
    "plt.tight_layout()\n",
    "#  -----------------------------------------------------------------\n",
    "plt.savefig('..\\Graph Signal Processing\\Images\\Error_Barplot_IEEE.eps',format='eps',dps=200)\n",
    "#  -----------------------------------------------------------------\n",
    "plt.show()"
   ]
  },
  {
   "cell_type": "markdown",
   "metadata": {},
   "source": [
    "### Plotting spectral window and error"
   ]
  },
  {
   "cell_type": "code",
   "execution_count": 27,
   "metadata": {},
   "outputs": [],
   "source": [
    "# spectral window\n",
    "w_list=list(range(1,df.shape[0]+1))\n",
    "error_ieee_list = []\n",
    "\n",
    "for w in w_list:\n",
    "    # filter\n",
    "    H_ieee = np.diag([1 if i<= w-1 else 0 for i in range(df.shape[0])])\n",
    "    # U_comp = algorithm2(epsilon)\n",
    "\n",
    "    denoised_signal_ieee = U_comp@H_ieee@U_comp.T@noised_temp\n",
    "    error_ieee = np.linalg.norm(denoised_signal_ieee-df['Temperature'].values)\n",
    "    error_ieee_list.append(error_ieee)"
   ]
  },
  {
   "cell_type": "code",
   "execution_count": 30,
   "metadata": {},
   "outputs": [
    {
     "data": {
      "image/png": "[encoded data removed]",
      "text/plain": [
       "<Figure size 360x288 with 1 Axes>"
      ]
     },
     "metadata": {},
     "output_type": "display_data"
    }
   ],
   "source": [
    "plt.figure(figsize=(5,4))\n",
    "plt.plot(w_list, error_ieee_list,color='red')\n",
    "# plt.plot(w_list, [358 for i in range(df.shape[0])],color='steelblue')\n",
    "# plt.title('Weighted')\n",
    "plt.ylabel('Error',fontsize=16)\n",
    "plt.xlabel('w',fontsize=16)\n",
    "# plt.legend(['Feasible Method','Gain'])\n",
    "plt.tight_layout()\n",
    "plt.savefig('..\\Graph Signal Processing\\Images\\Ieee_w.eps',format='eps',dpi=200)\n",
    "plt.show()"
   ]
  },
  {
   "cell_type": "markdown",
   "metadata": {},
   "source": [
    "# Solving Eq. for q using Sympy"
   ]
  },
  {
   "cell_type": "markdown",
   "metadata": {},
   "source": [
    "#### Gain Case"
   ]
  },
  {
   "cell_type": "code",
   "execution_count": null,
   "metadata": {},
   "outputs": [],
   "source": [
    "# define the kernel parameter\n",
    "c=0.4\n",
    "pi,e = np.pi,np.exp(1)\n",
    "\n",
    "# uncomment to get an expression in terms of q\n",
    "# q = Symbol('q', real=True)\n",
    "\n",
    "# to check for a particuar value of q\n",
    "q=0\n",
    "\n",
    "# original signal \n",
    "f = sy.Matrix(df['Temperature'].values)"
   ]
  },
  {
   "cell_type": "markdown",
   "metadata": {},
   "source": [
    "* Unweighted"
   ]
  },
  {
   "cell_type": "code",
   "execution_count": null,
   "metadata": {},
   "outputs": [],
   "source": [
    "# defining the gain adjacency matrix\n",
    "hadamard_adj = sy.zeros(df.shape[0],df.shape[0],dtype=complex)\n",
    "for i in range(df.shape[0]):\n",
    "    for j in range(df.shape[0]):\n",
    "            hadamard_adj[i,j] = e**(2*pi*q*1j*(directed_adj[i][j]-directed_adj[j][i]))\n",
    "    \n",
    "c=0.4\n",
    "# converting into sympy dtype\n",
    "D_sy = sy.Matrix(D)\n",
    "gain_lapl = sy.eye(df.shape[0]) - D_sy *(sy.Matrix(undirected_adj).multiply_elementwise(hadamard_adj))*D_sy \n",
    "\n",
    "# calculating inverse\n",
    "inverse = (sy.eye(df.shape[0])+c*gain_lapl).inv(method='LU')\n",
    "inverse_sqr = inverse*inverse-inverse\n",
    "\n",
    "# unweighted\n",
    "gain_lapl_diff = gain_lapl.multiply_elementwise(sy.Matrix(directed_adj)-sy.Matrix(directed_adj).T)\n",
    "\n",
    "\n",
    "expression = (inverse_sqr*gain_lapl_diff*inverse)+(inverse*gain_lapl_diff*inverse_sqr)\n",
    "expression_final = sy.simplify(f.T*expression*f)\n",
    "expression_final"
   ]
  },
  {
   "cell_type": "markdown",
   "metadata": {},
   "source": [
    "* Weighted"
   ]
  },
  {
   "cell_type": "code",
   "execution_count": null,
   "metadata": {},
   "outputs": [],
   "source": [
    "# defining the gain adjacency matrix\n",
    "hadamard_adj = sy.zeros(df.shape[0],df.shape[0],dtype=complex)\n",
    "for i in range(df.shape[0]):\n",
    "    for j in range(df.shape[0]):\n",
    "        hadamard_adj[i,j] = e**(2*pi*q*1j*(directed_adj_w[i][j]-directed_adj_w[j][i]))\n",
    "    \n",
    "# converting into sympy dtype\n",
    "D = sy.Matrix(D)\n",
    "gain_lapl = sy.eye(df.shape[0]) - D*(sy.Matrix(undirected_adj).multiply_elementwise(hadamard_adj))*D\n",
    "\n",
    "# calculating inverse\n",
    "inverse = (sy.eye(df.shape[0])+c*gain_lapl).inv(method='LU')\n",
    "inverse_sqr = inverse*inverse-inverse\n",
    "\n",
    "# Weighted\n",
    "gain_lapl_diff = gain_lapl.multiply_elementwise(sy.Matrix(directed_adj_w)-sy.Matrix(directed_adj_w).T)\n",
    "\n",
    "expression = (inverse_sqr*gain_lapl_diff*inverse)+(inverse*gain_lapl_diff*inverse_sqr)\n",
    "expression_final = sy.simplify(f.T*expression*f)\n",
    "expression_final"
   ]
  },
  {
   "cell_type": "markdown",
   "metadata": {},
   "source": [
    "### Numerical Example (as given in our paper)"
   ]
  },
  {
   "cell_type": "code",
   "execution_count": null,
   "metadata": {},
   "outputs": [],
   "source": [
    "# f = sy.Matrix([1,2,3])\n",
    "# def filter(eigen):\n",
    "#     return 1/(1+c*eigen)\n",
    "# H = np.diag(filter(np.array([0,1,2])))\n",
    "# H_final = H**3-H**2\n",
    "# U_q = sy.Matrix([[np.sqrt(2)*(e**(2*pi*1j*q)),0, -np.sqrt(2)*(e**(2*pi*1j*q))]\n",
    "#                 ,[1,1,1],[1,-1,1]])\n",
    "\n",
    "l = sy.Matrix([[1,-(e**(2*pi*1j*q))/np.sqrt(2), -(e**(2*pi*1j*q))/np.sqrt(2)],\n",
    "                   [(-e**(-2*pi*1j*q))/np.sqrt(2),1,0],[(-e**(-2*pi*1j*q))/np.sqrt(2),0,1]])\n",
    "\n",
    "l_diff = sy.Matrix([[0,-(e**(2*pi*1j*q))/np.sqrt(2), -(e**(2*pi*1j*q))/np.sqrt(2)],\n",
    "                   [(e**(-2*pi*1j*q))/np.sqrt(2),0,0],[(e**(-2*pi*1j*q))/np.sqrt(2),0,0]])\n",
    "\n",
    "inverse = (sy.eye(3)+c*l).inv()\n",
    "inverse_sqr = inverse*inverse-inverse\n",
    "\n",
    "expression = (inverse_sqr*l_diff*inverse)+(inverse*l_diff*inverse_sqr)\n",
    "expression_final = sy.simplify(f.T*expression*f)"
   ]
  },
  {
   "cell_type": "code",
   "execution_count": null,
   "metadata": {
    "scrolled": true
   },
   "outputs": [],
   "source": [
    "expression"
   ]
  },
  {
   "cell_type": "code",
   "execution_count": null,
   "metadata": {},
   "outputs": [],
   "source": [
    "expression_final"
   ]
  },
  {
   "cell_type": "markdown",
   "metadata": {},
   "source": [
    "### Drawing directed graph using NetworkX"
   ]
  },
  {
   "cell_type": "code",
   "execution_count": null,
   "metadata": {},
   "outputs": [],
   "source": [
    "# G_nx = nx.to_networkx_graph(directed_adj, create_using=nx.DiGraph)\n",
    "# plt.figure(figsize =(8, 5)) \n",
    "# plt.tight_layout()\n",
    "\n",
    "# # ------------\n",
    "# pos_array=df[['Longitude','Latitude']].values\n",
    "# pos_dict = {}\n",
    "# for key,(i,j) in enumerate(pos_array):\n",
    "#     pos_dict[key] =  [i,j]\n",
    "# # ------------\n",
    "\n",
    "# nx.draw_networkx(G_nx,pos=pos_dict, labels=df['Abbr'].to_dict(),with_label = True, node_color = range(48)) \n",
    "# plt.savefig('..\\Graph Signal Processing\\Images\\Temp_directed_graph.png',format='png',dpi=200)"
   ]
  },
  {
   "cell_type": "markdown",
   "metadata": {},
   "source": [
    "#### Creating the Undirected  and Directed Graphs"
   ]
  },
  {
   "cell_type": "code",
   "execution_count": 15,
   "metadata": {},
   "outputs": [
    {
     "name": "stdout",
     "output_type": "stream",
     "text": [
      "48 nodes, 110 edges\n",
      "True\n"
     ]
    },
    {
     "data": {
      "text/plain": [
       "Text(0.5, 1.0, '')"
      ]
     },
     "execution_count": 15,
     "metadata": {},
     "output_type": "execute_result"
    },
    {
     "data": {
      "image/png": "[encoded data removed]",
      "text/plain": [
       "<Figure size 432x288 with 1 Axes>"
      ]
     },
     "metadata": {
      "needs_background": "light"
     },
     "output_type": "display_data"
    }
   ],
   "source": [
    "# create the graph using the Adjacency matrices\n",
    "G_gsp_dir = graphs.Graph(directed_adj)\n",
    "G_gsp_undir = graphs.Graph(undirected_adj)\n",
    "print('{} nodes, {} edges'.format(G_gsp_dir.N, G_gsp_dir.Ne))\n",
    "print(G_gsp_dir.is_directed())\n",
    "G_gsp_dir.set_coordinates(kind=pos_array,labels=df['Abbr'].to_dict(),with_label = True)\n",
    "G_gsp_undir.set_coordinates(kind=pos_array,labels=df['Abbr'].to_dict(),with_label = True)\n",
    "G_gsp_dir.plot()\n",
    "plt.axis('off')\n",
    "plt.title('')"
   ]
  },
  {
   "cell_type": "markdown",
   "metadata": {},
   "source": [
    "### Drawing Directed graph using NetworkX"
   ]
  },
  {
   "cell_type": "code",
   "execution_count": 17,
   "metadata": {},
   "outputs": [
    {
     "data": {
      "image/png": "[encoded data removed]",
      "text/plain": [
       "<Figure size 576x288 with 2 Axes>"
      ]
     },
     "metadata": {
      "needs_background": "light"
     },
     "output_type": "display_data"
    }
   ],
   "source": [
    "G_nx = nx.to_networkx_graph(directed_adj, create_using=nx.DiGraph)\n",
    "plt.figure(figsize =(8, 4)) \n",
    "\n",
    "\n",
    "nc = nx.draw_networkx_nodes(G_nx, pos=pos_dict, label=df['Abbr'].to_dict(), with_label = True, \n",
    "                            node_color=df['Temperature'].values,cmap=colormap)\n",
    "nx.draw_networkx(G_nx,pos=pos_dict, labels=df['Abbr'].to_dict(),with_label = True, \n",
    "                 node_color=df['Temperature'].values,cmap=colormap) \n",
    "\n",
    "plt.colorbar(nc)\n",
    "plt.tight_layout()\n",
    "plt.box(False)\n",
    "plt.savefig('..\\Graph Signal Processing\\Images\\Temp_directed_graph.eps',format='eps',dpi=200)"
   ]
  },
  {
   "cell_type": "markdown",
   "metadata": {},
   "source": [
    "### Drawing Undirected graph using NetworkX"
   ]
  },
  {
   "cell_type": "code",
   "execution_count": 19,
   "metadata": {},
   "outputs": [
    {
     "data": {
      "image/png": "[encoded data removed]",
      "text/plain": [
       "<Figure size 576x360 with 2 Axes>"
      ]
     },
     "metadata": {
      "needs_background": "light"
     },
     "output_type": "display_data"
    }
   ],
   "source": [
    "G_nx = nx.to_networkx_graph(undirected_adj)\n",
    "plt.figure(figsize =(8, 5)) \n",
    "plt.tight_layout()\n",
    "\n",
    "nc = nx.draw_networkx_nodes(G_nx, pos=pos_dict, label=df['Abbr'].to_dict(), with_label = True, \n",
    "                            node_color=df['Temperature'].values,cmap=colormap)\n",
    "nx.draw_networkx(G_nx,pos=pos_dict, labels=df['Abbr'].to_dict(),with_label = True, \n",
    "                 node_color=df['Temperature'].values,cmap=colormap) \n",
    "\n",
    "plt.colorbar(nc)\n",
    "plt.box(False)\n",
    "# plt.savefig('..\\Graph Signal Processing\\Images\\Temp_directed_graph.png',format='png',dpi=200)"
   ]
  },
  {
   "cell_type": "markdown",
   "metadata": {},
   "source": [
    "### Subplots using NetworkX"
   ]
  },
  {
   "cell_type": "code",
   "execution_count": 21,
   "metadata": {},
   "outputs": [],
   "source": [
    "def scale(X):\n",
    "    min_,max_ = min(df['Temperature'].values), max(df['Temperature'].values)\n",
    "    X_std = (X - min(X)) / (max(X) - min(X))\n",
    "    X_scaled = X_std * (max_ - min_) + min_\n",
    "    return X_scaled\n",
    "# scale(denoised_signal_hermitian)"
   ]
  },
  {
   "cell_type": "code",
   "execution_count": 24,
   "metadata": {},
   "outputs": [],
   "source": [
    "%matplotlib inline\n",
    "from mpl_toolkits.axes_grid1 import make_axes_locatable\n",
    "sns.set(palette='deep')\n",
    "\n",
    "numbering = [['(a) ','(b) ','(c) '],['(d) ','(e) ','(f) ']]\n",
    "labels = [['original','noised','denoised (undir)'],['denoised (hermitian)','denoised (gain)',\n",
    "           'denoised (FM)']]\n",
    "# graph_type = ['G_gsp_undir','G_gsp_dir','G_gsp_dir']\n",
    "signals = [[df['Temperature'].values,noised_temp,denoised_signal_undir],\n",
    "           [denoised_signal_hermitian,denoised_signal_gain,denoised_signal_ieee]]\n",
    "# denoised_signals = ['denoised_signal_undir','denoised_signal_gain','denoised_signal_hermitian']\n",
    "f,axes = plt.subplots(2,3,figsize = (13,7))\n",
    "row,col = 0,0\n",
    "while row < 2:\n",
    "    plt.figure(figsize=(7, 4))\n",
    "    if labels[row][col] in ['denoised (hermitian)','denoised (FM)']:\n",
    "        if labels[row][col] == 'denoised (FM)':\n",
    "            denoised_signal = scale(signals[row][col])\n",
    "        else:\n",
    "            denoised_signal = signals[row][col]\n",
    "            \n",
    "#         print(max(denoised_signal))\n",
    "        G_nx = nx.to_networkx_graph(directed_adj, create_using=nx.DiGraph)\n",
    "        nc = nx.draw_networkx_nodes(G_nx, pos=pos_dict,node_color=denoised_signal,cmap=colormap,\n",
    "                                    ax = axes[row,col],node_size=100)\n",
    "        nx.draw_networkx(G_nx,pos=pos_dict, node_color=denoised_signal,cmap=colormap,ax = axes[row,col],\n",
    "                        with_labels=False) \n",
    "\n",
    "        divider = make_axes_locatable(axes[row,col])\n",
    "        cax = divider.append_axes('right', size='5%', pad=0.05)\n",
    "        f.colorbar(nc, cax=cax, orientation='vertical')\n",
    "        axes[row,col].set_yticklabels('')\n",
    "        axes[row,col].set_xticklabels('')\n",
    "        axes[row,col].set_xlabel(numbering[row][col]+labels[row][col])\n",
    "        axes[row,col].set(frame_on=False)\n",
    "    #         axes[row,col].set_title('')\n",
    "        col+=1\n",
    "    else:\n",
    "        G_nx = nx.to_networkx_graph(undirected_adj)\n",
    "        nc = nx.draw_networkx_nodes(G_nx, pos=pos_dict,node_color=scale(signals[row][col]),cmap=colormap,\n",
    "                                    ax = axes[row,col],node_size=100)\n",
    "        nx.draw_networkx(G_nx,pos=pos_dict, node_color=scale(signals[row][col]),cmap=colormap,ax = axes[row,col],\n",
    "                         with_labels=False) \n",
    "\n",
    "        divider = make_axes_locatable(axes[row,col])\n",
    "        cax = divider.append_axes('right', size='5%', pad=0.05)\n",
    "        f.colorbar(nc, cax=cax, orientation='vertical')\n",
    "        axes[row,col].set_yticklabels('')\n",
    "        axes[row,col].set_xticklabels('')\n",
    "        axes[row,col].set_xlabel(numbering[row][col]+labels[row][col])\n",
    "        axes[row,col].set(frame_on=False)\n",
    "#         axes[row,col].set_title('')\n",
    "        col+=1\n",
    "        \n",
    "    if col==3:\n",
    "        row+=1\n",
    "        col=0\n",
    "\n",
    "f.tight_layout()\n",
    "# f.savefig('..\\Graph Signal Processing\\Images\\graph_subplots_new.eps',format='eps',dpi=200)\n",
    "plt.clf()\n",
    "plt.show()"
   ]
  }
 ],
 "metadata": {
  "kernelspec": {
   "display_name": "Python 3",
   "language": "python",
   "name": "python3"
  },
  "language_info": {
   "codemirror_mode": {
    "name": "ipython",
    "version": 3
   },
   "file_extension": ".py",
   "mimetype": "text/x-python",
   "name": "python",
   "nbconvert_exporter": "python",
   "pygments_lexer": "ipython3",
   "version": "3.7.4"
  }
 },
 "nbformat": 4,
 "nbformat_minor": 2
}
